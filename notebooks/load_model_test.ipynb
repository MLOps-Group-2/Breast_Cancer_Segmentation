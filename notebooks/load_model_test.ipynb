{
 "cells": [
  {
   "cell_type": "code",
   "execution_count": 59,
   "id": "initial_id",
   "metadata": {
    "collapsed": true,
    "ExecuteTime": {
     "end_time": "2024-01-16T09:54:04.341085235Z",
     "start_time": "2024-01-16T09:54:04.326023785Z"
    }
   },
   "outputs": [],
   "source": [
    "import torch\n",
    "import os\n",
    "from PIL import Image\n",
    "from monai.transforms import (\n",
    "    Compose,\n",
    "    LoadImage,\n",
    "    RandRotate90,\n",
    "    RandSpatialCrop,\n",
    "    ScaleIntensity\n",
    ")\n",
    "from torchvision import transforms\n",
    "from monai.data import ArrayDataset, create_test_image_2d, decollate_batch, DataLoader\n",
    "from torchinfo import summary"
   ]
  },
  {
   "cell_type": "code",
   "outputs": [
    {
     "data": {
      "text/plain": "['Ex8_colab(2).ipynb', '.gitkeep', 'villi', 'load_model_test.ipynb']"
     },
     "execution_count": 7,
     "metadata": {},
     "output_type": "execute_result"
    }
   ],
   "source": [
    "os.listdir('.')"
   ],
   "metadata": {
    "collapsed": false,
    "ExecuteTime": {
     "end_time": "2024-01-15T16:56:24.934854862Z",
     "start_time": "2024-01-15T16:56:24.873209560Z"
    }
   },
   "id": "cf5895d4b0bf80cb",
   "execution_count": 7
  },
  {
   "cell_type": "code",
   "outputs": [],
   "source": [
    "unet_model = torch.jit.load('../models/model.pt').to('cpu')"
   ],
   "metadata": {
    "collapsed": false,
    "ExecuteTime": {
     "end_time": "2024-01-15T17:51:59.982812434Z",
     "start_time": "2024-01-15T17:51:59.913683583Z"
    }
   },
   "id": "6c29ab3d661b8bd9",
   "execution_count": 43
  },
  {
   "cell_type": "code",
   "outputs": [
    {
     "data": {
      "text/plain": "RecursiveScriptModule(\n  original_name=UNETModel\n  (net): RecursiveScriptModule(\n    original_name=UNet\n    (model): RecursiveScriptModule(\n      original_name=Sequential\n      (0): RecursiveScriptModule(\n        original_name=ResidualUnit\n        (conv): RecursiveScriptModule(\n          original_name=Sequential\n          (unit0): RecursiveScriptModule(\n            original_name=Convolution\n            (conv): RecursiveScriptModule(original_name=Conv2d)\n            (adn): RecursiveScriptModule(\n              original_name=ADN\n              (N): RecursiveScriptModule(original_name=InstanceNorm2d)\n              (D): RecursiveScriptModule(original_name=Dropout)\n              (A): RecursiveScriptModule(original_name=PReLU)\n            )\n          )\n          (unit1): RecursiveScriptModule(\n            original_name=Convolution\n            (conv): RecursiveScriptModule(original_name=Conv2d)\n            (adn): RecursiveScriptModule(\n              original_name=ADN\n              (N): RecursiveScriptModule(original_name=InstanceNorm2d)\n              (D): RecursiveScriptModule(original_name=Dropout)\n              (A): RecursiveScriptModule(original_name=PReLU)\n            )\n          )\n        )\n        (residual): RecursiveScriptModule(original_name=Conv2d)\n      )\n      (1): RecursiveScriptModule(\n        original_name=SkipConnection\n        (submodule): RecursiveScriptModule(\n          original_name=Sequential\n          (0): RecursiveScriptModule(\n            original_name=ResidualUnit\n            (conv): RecursiveScriptModule(\n              original_name=Sequential\n              (unit0): RecursiveScriptModule(\n                original_name=Convolution\n                (conv): RecursiveScriptModule(original_name=Conv2d)\n                (adn): RecursiveScriptModule(\n                  original_name=ADN\n                  (N): RecursiveScriptModule(original_name=InstanceNorm2d)\n                  (D): RecursiveScriptModule(original_name=Dropout)\n                  (A): RecursiveScriptModule(original_name=PReLU)\n                )\n              )\n              (unit1): RecursiveScriptModule(\n                original_name=Convolution\n                (conv): RecursiveScriptModule(original_name=Conv2d)\n                (adn): RecursiveScriptModule(\n                  original_name=ADN\n                  (N): RecursiveScriptModule(original_name=InstanceNorm2d)\n                  (D): RecursiveScriptModule(original_name=Dropout)\n                  (A): RecursiveScriptModule(original_name=PReLU)\n                )\n              )\n            )\n            (residual): RecursiveScriptModule(original_name=Conv2d)\n          )\n          (1): RecursiveScriptModule(\n            original_name=SkipConnection\n            (submodule): RecursiveScriptModule(\n              original_name=Sequential\n              (0): RecursiveScriptModule(\n                original_name=ResidualUnit\n                (conv): RecursiveScriptModule(\n                  original_name=Sequential\n                  (unit0): RecursiveScriptModule(\n                    original_name=Convolution\n                    (conv): RecursiveScriptModule(original_name=Conv2d)\n                    (adn): RecursiveScriptModule(\n                      original_name=ADN\n                      (N): RecursiveScriptModule(original_name=InstanceNorm2d)\n                      (D): RecursiveScriptModule(original_name=Dropout)\n                      (A): RecursiveScriptModule(original_name=PReLU)\n                    )\n                  )\n                  (unit1): RecursiveScriptModule(\n                    original_name=Convolution\n                    (conv): RecursiveScriptModule(original_name=Conv2d)\n                    (adn): RecursiveScriptModule(\n                      original_name=ADN\n                      (N): RecursiveScriptModule(original_name=InstanceNorm2d)\n                      (D): RecursiveScriptModule(original_name=Dropout)\n                      (A): RecursiveScriptModule(original_name=PReLU)\n                    )\n                  )\n                )\n                (residual): RecursiveScriptModule(original_name=Conv2d)\n              )\n              (1): RecursiveScriptModule(\n                original_name=SkipConnection\n                (submodule): RecursiveScriptModule(\n                  original_name=Sequential\n                  (0): RecursiveScriptModule(\n                    original_name=ResidualUnit\n                    (conv): RecursiveScriptModule(\n                      original_name=Sequential\n                      (unit0): RecursiveScriptModule(\n                        original_name=Convolution\n                        (conv): RecursiveScriptModule(original_name=Conv2d)\n                        (adn): RecursiveScriptModule(\n                          original_name=ADN\n                          (N): RecursiveScriptModule(original_name=InstanceNorm2d)\n                          (D): RecursiveScriptModule(original_name=Dropout)\n                          (A): RecursiveScriptModule(original_name=PReLU)\n                        )\n                      )\n                      (unit1): RecursiveScriptModule(\n                        original_name=Convolution\n                        (conv): RecursiveScriptModule(original_name=Conv2d)\n                        (adn): RecursiveScriptModule(\n                          original_name=ADN\n                          (N): RecursiveScriptModule(original_name=InstanceNorm2d)\n                          (D): RecursiveScriptModule(original_name=Dropout)\n                          (A): RecursiveScriptModule(original_name=PReLU)\n                        )\n                      )\n                    )\n                    (residual): RecursiveScriptModule(original_name=Conv2d)\n                  )\n                  (1): RecursiveScriptModule(\n                    original_name=SkipConnection\n                    (submodule): RecursiveScriptModule(\n                      original_name=ResidualUnit\n                      (conv): RecursiveScriptModule(\n                        original_name=Sequential\n                        (unit0): RecursiveScriptModule(\n                          original_name=Convolution\n                          (conv): RecursiveScriptModule(original_name=Conv2d)\n                          (adn): RecursiveScriptModule(\n                            original_name=ADN\n                            (N): RecursiveScriptModule(original_name=InstanceNorm2d)\n                            (D): RecursiveScriptModule(original_name=Dropout)\n                            (A): RecursiveScriptModule(original_name=PReLU)\n                          )\n                        )\n                        (unit1): RecursiveScriptModule(\n                          original_name=Convolution\n                          (conv): RecursiveScriptModule(original_name=Conv2d)\n                          (adn): RecursiveScriptModule(\n                            original_name=ADN\n                            (N): RecursiveScriptModule(original_name=InstanceNorm2d)\n                            (D): RecursiveScriptModule(original_name=Dropout)\n                            (A): RecursiveScriptModule(original_name=PReLU)\n                          )\n                        )\n                      )\n                      (residual): RecursiveScriptModule(original_name=Conv2d)\n                    )\n                  )\n                  (2): RecursiveScriptModule(\n                    original_name=Sequential\n                    (0): RecursiveScriptModule(\n                      original_name=Convolution\n                      (conv): RecursiveScriptModule(original_name=ConvTranspose2d)\n                      (adn): RecursiveScriptModule(\n                        original_name=ADN\n                        (N): RecursiveScriptModule(original_name=InstanceNorm2d)\n                        (D): RecursiveScriptModule(original_name=Dropout)\n                        (A): RecursiveScriptModule(original_name=PReLU)\n                      )\n                    )\n                    (1): RecursiveScriptModule(\n                      original_name=ResidualUnit\n                      (conv): RecursiveScriptModule(\n                        original_name=Sequential\n                        (unit0): RecursiveScriptModule(\n                          original_name=Convolution\n                          (conv): RecursiveScriptModule(original_name=Conv2d)\n                          (adn): RecursiveScriptModule(\n                            original_name=ADN\n                            (N): RecursiveScriptModule(original_name=InstanceNorm2d)\n                            (D): RecursiveScriptModule(original_name=Dropout)\n                            (A): RecursiveScriptModule(original_name=PReLU)\n                          )\n                        )\n                      )\n                      (residual): RecursiveScriptModule(original_name=Identity)\n                    )\n                  )\n                )\n              )\n              (2): RecursiveScriptModule(\n                original_name=Sequential\n                (0): RecursiveScriptModule(\n                  original_name=Convolution\n                  (conv): RecursiveScriptModule(original_name=ConvTranspose2d)\n                  (adn): RecursiveScriptModule(\n                    original_name=ADN\n                    (N): RecursiveScriptModule(original_name=InstanceNorm2d)\n                    (D): RecursiveScriptModule(original_name=Dropout)\n                    (A): RecursiveScriptModule(original_name=PReLU)\n                  )\n                )\n                (1): RecursiveScriptModule(\n                  original_name=ResidualUnit\n                  (conv): RecursiveScriptModule(\n                    original_name=Sequential\n                    (unit0): RecursiveScriptModule(\n                      original_name=Convolution\n                      (conv): RecursiveScriptModule(original_name=Conv2d)\n                      (adn): RecursiveScriptModule(\n                        original_name=ADN\n                        (N): RecursiveScriptModule(original_name=InstanceNorm2d)\n                        (D): RecursiveScriptModule(original_name=Dropout)\n                        (A): RecursiveScriptModule(original_name=PReLU)\n                      )\n                    )\n                  )\n                  (residual): RecursiveScriptModule(original_name=Identity)\n                )\n              )\n            )\n          )\n          (2): RecursiveScriptModule(\n            original_name=Sequential\n            (0): RecursiveScriptModule(\n              original_name=Convolution\n              (conv): RecursiveScriptModule(original_name=ConvTranspose2d)\n              (adn): RecursiveScriptModule(\n                original_name=ADN\n                (N): RecursiveScriptModule(original_name=InstanceNorm2d)\n                (D): RecursiveScriptModule(original_name=Dropout)\n                (A): RecursiveScriptModule(original_name=PReLU)\n              )\n            )\n            (1): RecursiveScriptModule(\n              original_name=ResidualUnit\n              (conv): RecursiveScriptModule(\n                original_name=Sequential\n                (unit0): RecursiveScriptModule(\n                  original_name=Convolution\n                  (conv): RecursiveScriptModule(original_name=Conv2d)\n                  (adn): RecursiveScriptModule(\n                    original_name=ADN\n                    (N): RecursiveScriptModule(original_name=InstanceNorm2d)\n                    (D): RecursiveScriptModule(original_name=Dropout)\n                    (A): RecursiveScriptModule(original_name=PReLU)\n                  )\n                )\n              )\n              (residual): RecursiveScriptModule(original_name=Identity)\n            )\n          )\n        )\n      )\n      (2): RecursiveScriptModule(\n        original_name=Sequential\n        (0): RecursiveScriptModule(\n          original_name=Convolution\n          (conv): RecursiveScriptModule(original_name=ConvTranspose2d)\n          (adn): RecursiveScriptModule(\n            original_name=ADN\n            (N): RecursiveScriptModule(original_name=InstanceNorm2d)\n            (D): RecursiveScriptModule(original_name=Dropout)\n            (A): RecursiveScriptModule(original_name=PReLU)\n          )\n        )\n        (1): RecursiveScriptModule(\n          original_name=ResidualUnit\n          (conv): RecursiveScriptModule(\n            original_name=Sequential\n            (unit0): RecursiveScriptModule(\n              original_name=Convolution\n              (conv): RecursiveScriptModule(original_name=Conv2d)\n            )\n          )\n          (residual): RecursiveScriptModule(original_name=Identity)\n        )\n      )\n    )\n  )\n  (criterion): RecursiveScriptModule(\n    original_name=DiceCELoss\n    (dice): RecursiveScriptModule(original_name=DiceLoss)\n    (cross_entropy): RecursiveScriptModule(original_name=CrossEntropyLoss)\n    (binary_cross_entropy): RecursiveScriptModule(original_name=BCEWithLogitsLoss)\n  )\n)"
     },
     "execution_count": 9,
     "metadata": {},
     "output_type": "execute_result"
    }
   ],
   "source": [
    "unet_model.eval()"
   ],
   "metadata": {
    "collapsed": false,
    "ExecuteTime": {
     "end_time": "2024-01-15T17:06:54.323228561Z",
     "start_time": "2024-01-15T17:06:54.273087806Z"
    }
   },
   "id": "66c988ae3b08fee9",
   "execution_count": 9
  },
  {
   "cell_type": "code",
   "outputs": [
    {
     "data": {
      "text/plain": "=================================================================================================================================================\nLayer (type:depth-idx)                                                                          Output Shape              Param #\n=================================================================================================================================================\nUNETModel                                                                                       --                        --\n├─UNet: 1-1                                                                                     --                        --\n│    └─Sequential: 2-1                                                                          --                        --\n│    │    └─ResidualUnit: 3-1                                                                   --                        3,218\n│    │    └─SkipConnection: 3-2                                                                 --                        1,621,902\n│    │    └─Sequential: 3-3                                                                     --                        952\n├─DiceCELoss: 1-2                                                                               --                        --\n│    └─DiceLoss: 2-2                                                                            --                        --\n│    └─CrossEntropyLoss: 2-3                                                                    --                        --\n│    └─BCEWithLogitsLoss: 2-4                                                                   --                        --\n=================================================================================================================================================\nTotal params: 1,626,072\nTrainable params: 1,626,072\nNon-trainable params: 0\nTotal mult-adds (Units.MEGABYTES): 0\n=================================================================================================================================================\nInput size (MB): 0.60\nForward/backward pass size (MB): 0.00\nParams size (MB): 6.50\nEstimated Total Size (MB): 7.11\n================================================================================================================================================="
     },
     "execution_count": 60,
     "metadata": {},
     "output_type": "execute_result"
    }
   ],
   "source": [
    "summary(unet_model, input_size=(1, 3, 224, 224))"
   ],
   "metadata": {
    "collapsed": false,
    "ExecuteTime": {
     "end_time": "2024-01-16T09:54:07.197419550Z",
     "start_time": "2024-01-16T09:54:07.002152731Z"
    }
   },
   "id": "e17c7b75baf8806e",
   "execution_count": 60
  },
  {
   "cell_type": "code",
   "outputs": [
    {
     "data": {
      "text/plain": "torch.jit._script.RecursiveScriptModule"
     },
     "execution_count": 10,
     "metadata": {},
     "output_type": "execute_result"
    }
   ],
   "source": [
    "type(unet_model)"
   ],
   "metadata": {
    "collapsed": false,
    "ExecuteTime": {
     "end_time": "2024-01-15T17:08:01.101716582Z",
     "start_time": "2024-01-15T17:08:01.043641759Z"
    }
   },
   "id": "81840517de8da73b",
   "execution_count": 10
  },
  {
   "cell_type": "code",
   "outputs": [],
   "source": [
    "img = Image.open('../data/raw/BCSS/test/TCGA-A1-A0SK-DX1_xmin45749_ymin25055_MPP-0_0_0_size224.png')"
   ],
   "metadata": {
    "collapsed": false,
    "ExecuteTime": {
     "end_time": "2024-01-15T17:10:49.437758893Z",
     "start_time": "2024-01-15T17:10:49.418403642Z"
    }
   },
   "id": "61ccdf70f14d9541",
   "execution_count": 12
  },
  {
   "cell_type": "code",
   "outputs": [],
   "source": [
    "# img_transf = transforms.ToTensor()\n",
    "img_transf = Compose(\n",
    "    [\n",
    "        transforms.Resize((224, 224)),  # Adjust size according to your model's input size\n",
    "        transforms.ToTensor()\n",
    "        #ScaleIntensity()\n",
    "    ]\n",
    ")"
   ],
   "metadata": {
    "collapsed": false,
    "ExecuteTime": {
     "end_time": "2024-01-15T17:35:34.279965128Z",
     "start_time": "2024-01-15T17:35:34.242460344Z"
    }
   },
   "id": "c13ffc68d1776346",
   "execution_count": 36
  },
  {
   "cell_type": "code",
   "outputs": [
    {
     "data": {
      "text/plain": "tensor([[[0.6980, 0.6941, 0.6863,  ..., 0.8510, 0.8549, 0.8471],\n         [0.6863, 0.6863, 0.6941,  ..., 0.8275, 0.8431, 0.8431],\n         [0.7137, 0.6941, 0.6941,  ..., 0.8275, 0.8353, 0.8392],\n         ...,\n         [0.3922, 0.3922, 0.4118,  ..., 0.9333, 0.9216, 0.8784],\n         [0.3804, 0.3529, 0.3804,  ..., 0.8706, 0.8510, 0.8039],\n         [0.3922, 0.3451, 0.3647,  ..., 0.8157, 0.7843, 0.7451]],\n\n        [[0.4824, 0.4980, 0.5255,  ..., 0.7059, 0.7098, 0.6824],\n         [0.4745, 0.4941, 0.5176,  ..., 0.7098, 0.7255, 0.7216],\n         [0.4588, 0.4510, 0.4510,  ..., 0.6902, 0.7059, 0.7059],\n         ...,\n         [0.2745, 0.2275, 0.2078,  ..., 0.7490, 0.7255, 0.6784],\n         [0.2745, 0.2431, 0.2353,  ..., 0.6745, 0.6392, 0.5961],\n         [0.2431, 0.2235, 0.2353,  ..., 0.5804, 0.5529, 0.5333]],\n\n        [[0.7059, 0.6902, 0.6980,  ..., 0.8275, 0.8392, 0.8392],\n         [0.7020, 0.7098, 0.7412,  ..., 0.8118, 0.8196, 0.8431],\n         [0.7098, 0.7059, 0.7373,  ..., 0.8157, 0.8196, 0.8353],\n         ...,\n         [0.5569, 0.5176, 0.5020,  ..., 0.8902, 0.8627, 0.8000],\n         [0.5843, 0.5451, 0.5373,  ..., 0.8745, 0.8431, 0.7686],\n         [0.5451, 0.5216, 0.5529,  ..., 0.8314, 0.8039, 0.7255]]])"
     },
     "execution_count": 39,
     "metadata": {},
     "output_type": "execute_result"
    }
   ],
   "source": [
    "img_transf(img)"
   ],
   "metadata": {
    "collapsed": false,
    "ExecuteTime": {
     "end_time": "2024-01-15T17:36:12.771490544Z",
     "start_time": "2024-01-15T17:36:12.741933143Z"
    }
   },
   "id": "78529649ce1c867",
   "execution_count": 39
  },
  {
   "cell_type": "code",
   "outputs": [
    {
     "name": "stderr",
     "output_type": "stream",
     "text": [
      "code/__torch__/torch/nn/modules/instancenorm.py:23: UserWarning: input's size at dim=1 does not match num_features. You can silence this warning by not passing in num_features, which is not used because affine=False\n",
      "code/__torch__/torch/nn/modules/instancenorm/___torch_mangle_3.py:23: UserWarning: input's size at dim=1 does not match num_features. You can silence this warning by not passing in num_features, which is not used because affine=False\n",
      "code/__torch__/torch/nn/modules/instancenorm/___torch_mangle_11.py:23: UserWarning: input's size at dim=1 does not match num_features. You can silence this warning by not passing in num_features, which is not used because affine=False\n",
      "code/__torch__/torch/nn/modules/instancenorm/___torch_mangle_19.py:23: UserWarning: input's size at dim=1 does not match num_features. You can silence this warning by not passing in num_features, which is not used because affine=False\n",
      "code/__torch__/torch/nn/modules/instancenorm/___torch_mangle_27.py:23: UserWarning: input's size at dim=1 does not match num_features. You can silence this warning by not passing in num_features, which is not used because affine=False\n"
     ]
    },
    {
     "ename": "RuntimeError",
     "evalue": "The following operation failed in the TorchScript interpreter.\nTraceback of TorchScript, serialized code (most recent call last):\n  File \"code/__torch__/breast_cancer_segmentation/models/UNETModel.py\", line 23, in forward\n    input: Tensor) -> Tensor:\n    net = self.net\n    return (net).forward(input, )\n            ~~~~~~~~~~~~ <--- HERE\n  File \"code/__torch__/monai/networks/nets/unet.py\", line 21, in forward\n    x: Tensor) -> Tensor:\n    model = self.model\n    return (model).forward(x, )\n            ~~~~~~~~~~~~~~ <--- HERE\n  File \"code/__torch__/torch/nn/modules/container/___torch_mangle_64.py\", line 15, in forward\n    _2 = getattr(self, \"2\")\n    input0 = (_0).forward(input, )\n    input1 = (_1).forward(input0, )\n              ~~~~~~~~~~~ <--- HERE\n    return (_2).forward(input1, )\n  def __len__(self: __torch__.torch.nn.modules.container.___torch_mangle_64.Sequential) -> int:\n  File \"code/__torch__/monai/networks/layers/simplelayers/___torch_mangle_54.py\", line 13, in forward\n    _0 = uninitialized(Tensor)\n    submodule = self.submodule\n    y = (submodule).forward(x, )\n         ~~~~~~~~~~~~~~~~~~ <--- HERE\n    mode = self.mode\n    if torch.eq(mode, \"cat\"):\n  File \"code/__torch__/torch/nn/modules/container/___torch_mangle_53.py\", line 15, in forward\n    _2 = getattr(self, \"2\")\n    input0 = (_0).forward(input, )\n    input1 = (_1).forward(input0, )\n              ~~~~~~~~~~~ <--- HERE\n    return (_2).forward(input1, )\n  def __len__(self: __torch__.torch.nn.modules.container.___torch_mangle_53.Sequential) -> int:\n  File \"code/__torch__/monai/networks/layers/simplelayers/___torch_mangle_47.py\", line 13, in forward\n    _0 = uninitialized(Tensor)\n    submodule = self.submodule\n    y = (submodule).forward(x, )\n         ~~~~~~~~~~~~~~~~~~ <--- HERE\n    mode = self.mode\n    if torch.eq(mode, \"cat\"):\n  File \"code/__torch__/torch/nn/modules/container/___torch_mangle_46.py\", line 15, in forward\n    _2 = getattr(self, \"2\")\n    input0 = (_0).forward(input, )\n    input1 = (_1).forward(input0, )\n              ~~~~~~~~~~~ <--- HERE\n    return (_2).forward(input1, )\n  def __len__(self: __torch__.torch.nn.modules.container.___torch_mangle_46.Sequential) -> int:\n  File \"code/__torch__/monai/networks/layers/simplelayers/___torch_mangle_40.py\", line 13, in forward\n    _0 = uninitialized(Tensor)\n    submodule = self.submodule\n    y = (submodule).forward(x, )\n         ~~~~~~~~~~~~~~~~~~ <--- HERE\n    mode = self.mode\n    if torch.eq(mode, \"cat\"):\n  File \"code/__torch__/torch/nn/modules/container/___torch_mangle_39.py\", line 15, in forward\n    _2 = getattr(self, \"2\")\n    input0 = (_0).forward(input, )\n    input1 = (_1).forward(input0, )\n              ~~~~~~~~~~~ <--- HERE\n    return (_2).forward(input1, )\n  def __len__(self: __torch__.torch.nn.modules.container.___torch_mangle_39.Sequential) -> int:\n  File \"code/__torch__/monai/networks/layers/simplelayers.py\", line 18, in forward\n      _2 = [x, y]\n      dim = self.dim\n      _1 = torch.cat(_2, dim)\n           ~~~~~~~~~ <--- HERE\n    else:\n      mode0 = self.mode\n\nTraceback of TorchScript, original code (most recent call last):\n  File \"/breast_cancer_segmentation/models/UNETModel.py\", line 20, in forward\n    def forward(self, input):\n        output = self.net(input)\n                 ~~~~~~~~ <--- HERE\n        return output\n  File \"/usr/local/lib/python3.11/site-packages/monai/networks/nets/unet.py\", line 300, in forward\n    def forward(self, x: torch.Tensor) -> torch.Tensor:\n        x = self.model(x)\n            ~~~~~~~~~~ <--- HERE\n        return x\n  File \"/usr/local/lib/python3.11/site-packages/torch/nn/modules/container.py\", line 215, in forward\n    def forward(self, input):\n        for module in self:\n            input = module(input)\n                    ~~~~~~ <--- HERE\n        return input\n  File \"/usr/local/lib/python3.11/site-packages/monai/networks/layers/simplelayers.py\", line 129, in forward\n    def forward(self, x: torch.Tensor) -> torch.Tensor:\n        y = self.submodule(x)\n            ~~~~~~~~~~~~~~ <--- HERE\n    \n        if self.mode == \"cat\":\n  File \"/usr/local/lib/python3.11/site-packages/torch/nn/modules/container.py\", line 215, in forward\n    def forward(self, input):\n        for module in self:\n            input = module(input)\n                    ~~~~~~ <--- HERE\n        return input\n  File \"/usr/local/lib/python3.11/site-packages/monai/networks/layers/simplelayers.py\", line 129, in forward\n    def forward(self, x: torch.Tensor) -> torch.Tensor:\n        y = self.submodule(x)\n            ~~~~~~~~~~~~~~ <--- HERE\n    \n        if self.mode == \"cat\":\n  File \"/usr/local/lib/python3.11/site-packages/torch/nn/modules/container.py\", line 215, in forward\n    def forward(self, input):\n        for module in self:\n            input = module(input)\n                    ~~~~~~ <--- HERE\n        return input\n  File \"/usr/local/lib/python3.11/site-packages/monai/networks/layers/simplelayers.py\", line 129, in forward\n    def forward(self, x: torch.Tensor) -> torch.Tensor:\n        y = self.submodule(x)\n            ~~~~~~~~~~~~~~ <--- HERE\n    \n        if self.mode == \"cat\":\n  File \"/usr/local/lib/python3.11/site-packages/torch/nn/modules/container.py\", line 215, in forward\n    def forward(self, input):\n        for module in self:\n            input = module(input)\n                    ~~~~~~ <--- HERE\n        return input\n  File \"/usr/local/lib/python3.11/site-packages/monai/networks/layers/simplelayers.py\", line 132, in forward\n    \n        if self.mode == \"cat\":\n            return torch.cat([x, y], dim=self.dim)\n                   ~~~~~~~~~ <--- HERE\n        if self.mode == \"add\":\n            return torch.add(x, y)\nRuntimeError: Sizes of tensors must match except in dimension 1. Expected size 128 but got size 256 for tensor number 1 in the list.\n",
     "output_type": "error",
     "traceback": [
      "\u001B[0;31m---------------------------------------------------------------------------\u001B[0m",
      "\u001B[0;31mRuntimeError\u001B[0m                              Traceback (most recent call last)",
      "Cell \u001B[0;32mIn[44], line 1\u001B[0m\n\u001B[0;32m----> 1\u001B[0m \u001B[43munet_model\u001B[49m\u001B[43m(\u001B[49m\u001B[43mimg_transf\u001B[49m\u001B[43m(\u001B[49m\u001B[43mimg\u001B[49m\u001B[43m)\u001B[49m\u001B[43m)\u001B[49m\n",
      "File \u001B[0;32m~/anaconda3/envs/breast_cancer_segmentation/lib/python3.11/site-packages/torch/nn/modules/module.py:1518\u001B[0m, in \u001B[0;36mModule._wrapped_call_impl\u001B[0;34m(self, *args, **kwargs)\u001B[0m\n\u001B[1;32m   1516\u001B[0m     \u001B[38;5;28;01mreturn\u001B[39;00m \u001B[38;5;28mself\u001B[39m\u001B[38;5;241m.\u001B[39m_compiled_call_impl(\u001B[38;5;241m*\u001B[39margs, \u001B[38;5;241m*\u001B[39m\u001B[38;5;241m*\u001B[39mkwargs)  \u001B[38;5;66;03m# type: ignore[misc]\u001B[39;00m\n\u001B[1;32m   1517\u001B[0m \u001B[38;5;28;01melse\u001B[39;00m:\n\u001B[0;32m-> 1518\u001B[0m     \u001B[38;5;28;01mreturn\u001B[39;00m \u001B[38;5;28;43mself\u001B[39;49m\u001B[38;5;241;43m.\u001B[39;49m\u001B[43m_call_impl\u001B[49m\u001B[43m(\u001B[49m\u001B[38;5;241;43m*\u001B[39;49m\u001B[43margs\u001B[49m\u001B[43m,\u001B[49m\u001B[43m \u001B[49m\u001B[38;5;241;43m*\u001B[39;49m\u001B[38;5;241;43m*\u001B[39;49m\u001B[43mkwargs\u001B[49m\u001B[43m)\u001B[49m\n",
      "File \u001B[0;32m~/anaconda3/envs/breast_cancer_segmentation/lib/python3.11/site-packages/torch/nn/modules/module.py:1527\u001B[0m, in \u001B[0;36mModule._call_impl\u001B[0;34m(self, *args, **kwargs)\u001B[0m\n\u001B[1;32m   1522\u001B[0m \u001B[38;5;66;03m# If we don't have any hooks, we want to skip the rest of the logic in\u001B[39;00m\n\u001B[1;32m   1523\u001B[0m \u001B[38;5;66;03m# this function, and just call forward.\u001B[39;00m\n\u001B[1;32m   1524\u001B[0m \u001B[38;5;28;01mif\u001B[39;00m \u001B[38;5;129;01mnot\u001B[39;00m (\u001B[38;5;28mself\u001B[39m\u001B[38;5;241m.\u001B[39m_backward_hooks \u001B[38;5;129;01mor\u001B[39;00m \u001B[38;5;28mself\u001B[39m\u001B[38;5;241m.\u001B[39m_backward_pre_hooks \u001B[38;5;129;01mor\u001B[39;00m \u001B[38;5;28mself\u001B[39m\u001B[38;5;241m.\u001B[39m_forward_hooks \u001B[38;5;129;01mor\u001B[39;00m \u001B[38;5;28mself\u001B[39m\u001B[38;5;241m.\u001B[39m_forward_pre_hooks\n\u001B[1;32m   1525\u001B[0m         \u001B[38;5;129;01mor\u001B[39;00m _global_backward_pre_hooks \u001B[38;5;129;01mor\u001B[39;00m _global_backward_hooks\n\u001B[1;32m   1526\u001B[0m         \u001B[38;5;129;01mor\u001B[39;00m _global_forward_hooks \u001B[38;5;129;01mor\u001B[39;00m _global_forward_pre_hooks):\n\u001B[0;32m-> 1527\u001B[0m     \u001B[38;5;28;01mreturn\u001B[39;00m \u001B[43mforward_call\u001B[49m\u001B[43m(\u001B[49m\u001B[38;5;241;43m*\u001B[39;49m\u001B[43margs\u001B[49m\u001B[43m,\u001B[49m\u001B[43m \u001B[49m\u001B[38;5;241;43m*\u001B[39;49m\u001B[38;5;241;43m*\u001B[39;49m\u001B[43mkwargs\u001B[49m\u001B[43m)\u001B[49m\n\u001B[1;32m   1529\u001B[0m \u001B[38;5;28;01mtry\u001B[39;00m:\n\u001B[1;32m   1530\u001B[0m     result \u001B[38;5;241m=\u001B[39m \u001B[38;5;28;01mNone\u001B[39;00m\n",
      "\u001B[0;31mRuntimeError\u001B[0m: The following operation failed in the TorchScript interpreter.\nTraceback of TorchScript, serialized code (most recent call last):\n  File \"code/__torch__/breast_cancer_segmentation/models/UNETModel.py\", line 23, in forward\n    input: Tensor) -> Tensor:\n    net = self.net\n    return (net).forward(input, )\n            ~~~~~~~~~~~~ <--- HERE\n  File \"code/__torch__/monai/networks/nets/unet.py\", line 21, in forward\n    x: Tensor) -> Tensor:\n    model = self.model\n    return (model).forward(x, )\n            ~~~~~~~~~~~~~~ <--- HERE\n  File \"code/__torch__/torch/nn/modules/container/___torch_mangle_64.py\", line 15, in forward\n    _2 = getattr(self, \"2\")\n    input0 = (_0).forward(input, )\n    input1 = (_1).forward(input0, )\n              ~~~~~~~~~~~ <--- HERE\n    return (_2).forward(input1, )\n  def __len__(self: __torch__.torch.nn.modules.container.___torch_mangle_64.Sequential) -> int:\n  File \"code/__torch__/monai/networks/layers/simplelayers/___torch_mangle_54.py\", line 13, in forward\n    _0 = uninitialized(Tensor)\n    submodule = self.submodule\n    y = (submodule).forward(x, )\n         ~~~~~~~~~~~~~~~~~~ <--- HERE\n    mode = self.mode\n    if torch.eq(mode, \"cat\"):\n  File \"code/__torch__/torch/nn/modules/container/___torch_mangle_53.py\", line 15, in forward\n    _2 = getattr(self, \"2\")\n    input0 = (_0).forward(input, )\n    input1 = (_1).forward(input0, )\n              ~~~~~~~~~~~ <--- HERE\n    return (_2).forward(input1, )\n  def __len__(self: __torch__.torch.nn.modules.container.___torch_mangle_53.Sequential) -> int:\n  File \"code/__torch__/monai/networks/layers/simplelayers/___torch_mangle_47.py\", line 13, in forward\n    _0 = uninitialized(Tensor)\n    submodule = self.submodule\n    y = (submodule).forward(x, )\n         ~~~~~~~~~~~~~~~~~~ <--- HERE\n    mode = self.mode\n    if torch.eq(mode, \"cat\"):\n  File \"code/__torch__/torch/nn/modules/container/___torch_mangle_46.py\", line 15, in forward\n    _2 = getattr(self, \"2\")\n    input0 = (_0).forward(input, )\n    input1 = (_1).forward(input0, )\n              ~~~~~~~~~~~ <--- HERE\n    return (_2).forward(input1, )\n  def __len__(self: __torch__.torch.nn.modules.container.___torch_mangle_46.Sequential) -> int:\n  File \"code/__torch__/monai/networks/layers/simplelayers/___torch_mangle_40.py\", line 13, in forward\n    _0 = uninitialized(Tensor)\n    submodule = self.submodule\n    y = (submodule).forward(x, )\n         ~~~~~~~~~~~~~~~~~~ <--- HERE\n    mode = self.mode\n    if torch.eq(mode, \"cat\"):\n  File \"code/__torch__/torch/nn/modules/container/___torch_mangle_39.py\", line 15, in forward\n    _2 = getattr(self, \"2\")\n    input0 = (_0).forward(input, )\n    input1 = (_1).forward(input0, )\n              ~~~~~~~~~~~ <--- HERE\n    return (_2).forward(input1, )\n  def __len__(self: __torch__.torch.nn.modules.container.___torch_mangle_39.Sequential) -> int:\n  File \"code/__torch__/monai/networks/layers/simplelayers.py\", line 18, in forward\n      _2 = [x, y]\n      dim = self.dim\n      _1 = torch.cat(_2, dim)\n           ~~~~~~~~~ <--- HERE\n    else:\n      mode0 = self.mode\n\nTraceback of TorchScript, original code (most recent call last):\n  File \"/breast_cancer_segmentation/models/UNETModel.py\", line 20, in forward\n    def forward(self, input):\n        output = self.net(input)\n                 ~~~~~~~~ <--- HERE\n        return output\n  File \"/usr/local/lib/python3.11/site-packages/monai/networks/nets/unet.py\", line 300, in forward\n    def forward(self, x: torch.Tensor) -> torch.Tensor:\n        x = self.model(x)\n            ~~~~~~~~~~ <--- HERE\n        return x\n  File \"/usr/local/lib/python3.11/site-packages/torch/nn/modules/container.py\", line 215, in forward\n    def forward(self, input):\n        for module in self:\n            input = module(input)\n                    ~~~~~~ <--- HERE\n        return input\n  File \"/usr/local/lib/python3.11/site-packages/monai/networks/layers/simplelayers.py\", line 129, in forward\n    def forward(self, x: torch.Tensor) -> torch.Tensor:\n        y = self.submodule(x)\n            ~~~~~~~~~~~~~~ <--- HERE\n    \n        if self.mode == \"cat\":\n  File \"/usr/local/lib/python3.11/site-packages/torch/nn/modules/container.py\", line 215, in forward\n    def forward(self, input):\n        for module in self:\n            input = module(input)\n                    ~~~~~~ <--- HERE\n        return input\n  File \"/usr/local/lib/python3.11/site-packages/monai/networks/layers/simplelayers.py\", line 129, in forward\n    def forward(self, x: torch.Tensor) -> torch.Tensor:\n        y = self.submodule(x)\n            ~~~~~~~~~~~~~~ <--- HERE\n    \n        if self.mode == \"cat\":\n  File \"/usr/local/lib/python3.11/site-packages/torch/nn/modules/container.py\", line 215, in forward\n    def forward(self, input):\n        for module in self:\n            input = module(input)\n                    ~~~~~~ <--- HERE\n        return input\n  File \"/usr/local/lib/python3.11/site-packages/monai/networks/layers/simplelayers.py\", line 129, in forward\n    def forward(self, x: torch.Tensor) -> torch.Tensor:\n        y = self.submodule(x)\n            ~~~~~~~~~~~~~~ <--- HERE\n    \n        if self.mode == \"cat\":\n  File \"/usr/local/lib/python3.11/site-packages/torch/nn/modules/container.py\", line 215, in forward\n    def forward(self, input):\n        for module in self:\n            input = module(input)\n                    ~~~~~~ <--- HERE\n        return input\n  File \"/usr/local/lib/python3.11/site-packages/monai/networks/layers/simplelayers.py\", line 132, in forward\n    \n        if self.mode == \"cat\":\n            return torch.cat([x, y], dim=self.dim)\n                   ~~~~~~~~~ <--- HERE\n        if self.mode == \"add\":\n            return torch.add(x, y)\nRuntimeError: Sizes of tensors must match except in dimension 1. Expected size 128 but got size 256 for tensor number 1 in the list.\n"
     ]
    }
   ],
   "source": [
    "unet_model(img_transf(img))"
   ],
   "metadata": {
    "collapsed": false,
    "ExecuteTime": {
     "end_time": "2024-01-15T17:52:23.328998737Z",
     "start_time": "2024-01-15T17:52:22.964341386Z"
    }
   },
   "id": "d0c445ee94ba0123",
   "execution_count": 44
  },
  {
   "cell_type": "code",
   "outputs": [],
   "source": [
    "unet_model."
   ],
   "metadata": {
    "collapsed": false,
    "ExecuteTime": {
     "end_time": "2024-01-15T17:50:09.078883207Z",
     "start_time": "2024-01-15T17:50:09.033332478Z"
    }
   },
   "id": "2b0626c648b0176e",
   "execution_count": 42
  },
  {
   "cell_type": "code",
   "outputs": [
    {
     "data": {
      "text/plain": "tensor([[[0.6980, 0.6941, 0.6863,  ..., 0.8510, 0.8549, 0.8471],\n         [0.6863, 0.6863, 0.6941,  ..., 0.8275, 0.8431, 0.8431],\n         [0.7137, 0.6941, 0.6941,  ..., 0.8275, 0.8353, 0.8392],\n         ...,\n         [0.3922, 0.3922, 0.4118,  ..., 0.9333, 0.9216, 0.8784],\n         [0.3804, 0.3529, 0.3804,  ..., 0.8706, 0.8510, 0.8039],\n         [0.3922, 0.3451, 0.3647,  ..., 0.8157, 0.7843, 0.7451]],\n\n        [[0.4824, 0.4980, 0.5255,  ..., 0.7059, 0.7098, 0.6824],\n         [0.4745, 0.4941, 0.5176,  ..., 0.7098, 0.7255, 0.7216],\n         [0.4588, 0.4510, 0.4510,  ..., 0.6902, 0.7059, 0.7059],\n         ...,\n         [0.2745, 0.2275, 0.2078,  ..., 0.7490, 0.7255, 0.6784],\n         [0.2745, 0.2431, 0.2353,  ..., 0.6745, 0.6392, 0.5961],\n         [0.2431, 0.2235, 0.2353,  ..., 0.5804, 0.5529, 0.5333]],\n\n        [[0.7059, 0.6902, 0.6980,  ..., 0.8275, 0.8392, 0.8392],\n         [0.7020, 0.7098, 0.7412,  ..., 0.8118, 0.8196, 0.8431],\n         [0.7098, 0.7059, 0.7373,  ..., 0.8157, 0.8196, 0.8353],\n         ...,\n         [0.5569, 0.5176, 0.5020,  ..., 0.8902, 0.8627, 0.8000],\n         [0.5843, 0.5451, 0.5373,  ..., 0.8745, 0.8431, 0.7686],\n         [0.5451, 0.5216, 0.5529,  ..., 0.8314, 0.8039, 0.7255]]])"
     },
     "execution_count": 56,
     "metadata": {},
     "output_type": "execute_result"
    }
   ],
   "source": [
    "img_transf(img).squeeze(0)"
   ],
   "metadata": {
    "collapsed": false,
    "ExecuteTime": {
     "end_time": "2024-01-16T09:29:31.555150019Z",
     "start_time": "2024-01-16T09:29:31.510390716Z"
    }
   },
   "id": "ac9103ee0a350602",
   "execution_count": 56
  },
  {
   "cell_type": "code",
   "outputs": [],
   "source": [
    "data_arr = ArrayDataset(img)"
   ],
   "metadata": {
    "collapsed": false,
    "ExecuteTime": {
     "end_time": "2024-01-16T09:14:33.958008463Z",
     "start_time": "2024-01-16T09:14:33.915461893Z"
    }
   },
   "id": "f8f91befd6dba250",
   "execution_count": 51
  },
  {
   "cell_type": "code",
   "outputs": [
    {
     "name": "stderr",
     "output_type": "stream",
     "text": [
      "code/__torch__/torch/nn/modules/instancenorm.py:23: UserWarning: input's size at dim=1 does not match num_features. You can silence this warning by not passing in num_features, which is not used because affine=False\n",
      "code/__torch__/torch/nn/modules/instancenorm/___torch_mangle_3.py:23: UserWarning: input's size at dim=1 does not match num_features. You can silence this warning by not passing in num_features, which is not used because affine=False\n",
      "code/__torch__/torch/nn/modules/instancenorm/___torch_mangle_11.py:23: UserWarning: input's size at dim=1 does not match num_features. You can silence this warning by not passing in num_features, which is not used because affine=False\n",
      "code/__torch__/torch/nn/modules/instancenorm/___torch_mangle_19.py:23: UserWarning: input's size at dim=1 does not match num_features. You can silence this warning by not passing in num_features, which is not used because affine=False\n",
      "code/__torch__/torch/nn/modules/instancenorm/___torch_mangle_27.py:23: UserWarning: input's size at dim=1 does not match num_features. You can silence this warning by not passing in num_features, which is not used because affine=False\n"
     ]
    },
    {
     "ename": "RuntimeError",
     "evalue": "The following operation failed in the TorchScript interpreter.\nTraceback of TorchScript, serialized code (most recent call last):\n  File \"code/__torch__/breast_cancer_segmentation/models/UNETModel.py\", line 23, in forward\n    input: Tensor) -> Tensor:\n    net = self.net\n    return (net).forward(input, )\n            ~~~~~~~~~~~~ <--- HERE\n  File \"code/__torch__/monai/networks/nets/unet.py\", line 21, in forward\n    x: Tensor) -> Tensor:\n    model = self.model\n    return (model).forward(x, )\n            ~~~~~~~~~~~~~~ <--- HERE\n  File \"code/__torch__/torch/nn/modules/container/___torch_mangle_64.py\", line 15, in forward\n    _2 = getattr(self, \"2\")\n    input0 = (_0).forward(input, )\n    input1 = (_1).forward(input0, )\n              ~~~~~~~~~~~ <--- HERE\n    return (_2).forward(input1, )\n  def __len__(self: __torch__.torch.nn.modules.container.___torch_mangle_64.Sequential) -> int:\n  File \"code/__torch__/monai/networks/layers/simplelayers/___torch_mangle_54.py\", line 13, in forward\n    _0 = uninitialized(Tensor)\n    submodule = self.submodule\n    y = (submodule).forward(x, )\n         ~~~~~~~~~~~~~~~~~~ <--- HERE\n    mode = self.mode\n    if torch.eq(mode, \"cat\"):\n  File \"code/__torch__/torch/nn/modules/container/___torch_mangle_53.py\", line 15, in forward\n    _2 = getattr(self, \"2\")\n    input0 = (_0).forward(input, )\n    input1 = (_1).forward(input0, )\n              ~~~~~~~~~~~ <--- HERE\n    return (_2).forward(input1, )\n  def __len__(self: __torch__.torch.nn.modules.container.___torch_mangle_53.Sequential) -> int:\n  File \"code/__torch__/monai/networks/layers/simplelayers/___torch_mangle_47.py\", line 13, in forward\n    _0 = uninitialized(Tensor)\n    submodule = self.submodule\n    y = (submodule).forward(x, )\n         ~~~~~~~~~~~~~~~~~~ <--- HERE\n    mode = self.mode\n    if torch.eq(mode, \"cat\"):\n  File \"code/__torch__/torch/nn/modules/container/___torch_mangle_46.py\", line 15, in forward\n    _2 = getattr(self, \"2\")\n    input0 = (_0).forward(input, )\n    input1 = (_1).forward(input0, )\n              ~~~~~~~~~~~ <--- HERE\n    return (_2).forward(input1, )\n  def __len__(self: __torch__.torch.nn.modules.container.___torch_mangle_46.Sequential) -> int:\n  File \"code/__torch__/monai/networks/layers/simplelayers/___torch_mangle_40.py\", line 13, in forward\n    _0 = uninitialized(Tensor)\n    submodule = self.submodule\n    y = (submodule).forward(x, )\n         ~~~~~~~~~~~~~~~~~~ <--- HERE\n    mode = self.mode\n    if torch.eq(mode, \"cat\"):\n  File \"code/__torch__/torch/nn/modules/container/___torch_mangle_39.py\", line 15, in forward\n    _2 = getattr(self, \"2\")\n    input0 = (_0).forward(input, )\n    input1 = (_1).forward(input0, )\n              ~~~~~~~~~~~ <--- HERE\n    return (_2).forward(input1, )\n  def __len__(self: __torch__.torch.nn.modules.container.___torch_mangle_39.Sequential) -> int:\n  File \"code/__torch__/monai/networks/layers/simplelayers.py\", line 18, in forward\n      _2 = [x, y]\n      dim = self.dim\n      _1 = torch.cat(_2, dim)\n           ~~~~~~~~~ <--- HERE\n    else:\n      mode0 = self.mode\n\nTraceback of TorchScript, original code (most recent call last):\n  File \"/breast_cancer_segmentation/models/UNETModel.py\", line 20, in forward\n    def forward(self, input):\n        output = self.net(input)\n                 ~~~~~~~~ <--- HERE\n        return output\n  File \"/usr/local/lib/python3.11/site-packages/monai/networks/nets/unet.py\", line 300, in forward\n    def forward(self, x: torch.Tensor) -> torch.Tensor:\n        x = self.model(x)\n            ~~~~~~~~~~ <--- HERE\n        return x\n  File \"/usr/local/lib/python3.11/site-packages/torch/nn/modules/container.py\", line 215, in forward\n    def forward(self, input):\n        for module in self:\n            input = module(input)\n                    ~~~~~~ <--- HERE\n        return input\n  File \"/usr/local/lib/python3.11/site-packages/monai/networks/layers/simplelayers.py\", line 129, in forward\n    def forward(self, x: torch.Tensor) -> torch.Tensor:\n        y = self.submodule(x)\n            ~~~~~~~~~~~~~~ <--- HERE\n    \n        if self.mode == \"cat\":\n  File \"/usr/local/lib/python3.11/site-packages/torch/nn/modules/container.py\", line 215, in forward\n    def forward(self, input):\n        for module in self:\n            input = module(input)\n                    ~~~~~~ <--- HERE\n        return input\n  File \"/usr/local/lib/python3.11/site-packages/monai/networks/layers/simplelayers.py\", line 129, in forward\n    def forward(self, x: torch.Tensor) -> torch.Tensor:\n        y = self.submodule(x)\n            ~~~~~~~~~~~~~~ <--- HERE\n    \n        if self.mode == \"cat\":\n  File \"/usr/local/lib/python3.11/site-packages/torch/nn/modules/container.py\", line 215, in forward\n    def forward(self, input):\n        for module in self:\n            input = module(input)\n                    ~~~~~~ <--- HERE\n        return input\n  File \"/usr/local/lib/python3.11/site-packages/monai/networks/layers/simplelayers.py\", line 129, in forward\n    def forward(self, x: torch.Tensor) -> torch.Tensor:\n        y = self.submodule(x)\n            ~~~~~~~~~~~~~~ <--- HERE\n    \n        if self.mode == \"cat\":\n  File \"/usr/local/lib/python3.11/site-packages/torch/nn/modules/container.py\", line 215, in forward\n    def forward(self, input):\n        for module in self:\n            input = module(input)\n                    ~~~~~~ <--- HERE\n        return input\n  File \"/usr/local/lib/python3.11/site-packages/monai/networks/layers/simplelayers.py\", line 132, in forward\n    \n        if self.mode == \"cat\":\n            return torch.cat([x, y], dim=self.dim)\n                   ~~~~~~~~~ <--- HERE\n        if self.mode == \"add\":\n            return torch.add(x, y)\nRuntimeError: Sizes of tensors must match except in dimension 1. Expected size 128 but got size 256 for tensor number 1 in the list.\n",
     "output_type": "error",
     "traceback": [
      "\u001B[0;31m---------------------------------------------------------------------------\u001B[0m",
      "\u001B[0;31mRuntimeError\u001B[0m                              Traceback (most recent call last)",
      "Cell \u001B[0;32mIn[57], line 1\u001B[0m\n\u001B[0;32m----> 1\u001B[0m \u001B[43munet_model\u001B[49m\u001B[43m(\u001B[49m\u001B[43mimg_transf\u001B[49m\u001B[43m(\u001B[49m\u001B[43mimg\u001B[49m\u001B[43m)\u001B[49m\u001B[38;5;241;43m.\u001B[39;49m\u001B[43msqueeze\u001B[49m\u001B[43m(\u001B[49m\u001B[38;5;241;43m0\u001B[39;49m\u001B[43m)\u001B[49m\u001B[43m)\u001B[49m\n",
      "File \u001B[0;32m~/anaconda3/envs/breast_cancer_segmentation/lib/python3.11/site-packages/torch/nn/modules/module.py:1518\u001B[0m, in \u001B[0;36mModule._wrapped_call_impl\u001B[0;34m(self, *args, **kwargs)\u001B[0m\n\u001B[1;32m   1516\u001B[0m     \u001B[38;5;28;01mreturn\u001B[39;00m \u001B[38;5;28mself\u001B[39m\u001B[38;5;241m.\u001B[39m_compiled_call_impl(\u001B[38;5;241m*\u001B[39margs, \u001B[38;5;241m*\u001B[39m\u001B[38;5;241m*\u001B[39mkwargs)  \u001B[38;5;66;03m# type: ignore[misc]\u001B[39;00m\n\u001B[1;32m   1517\u001B[0m \u001B[38;5;28;01melse\u001B[39;00m:\n\u001B[0;32m-> 1518\u001B[0m     \u001B[38;5;28;01mreturn\u001B[39;00m \u001B[38;5;28;43mself\u001B[39;49m\u001B[38;5;241;43m.\u001B[39;49m\u001B[43m_call_impl\u001B[49m\u001B[43m(\u001B[49m\u001B[38;5;241;43m*\u001B[39;49m\u001B[43margs\u001B[49m\u001B[43m,\u001B[49m\u001B[43m \u001B[49m\u001B[38;5;241;43m*\u001B[39;49m\u001B[38;5;241;43m*\u001B[39;49m\u001B[43mkwargs\u001B[49m\u001B[43m)\u001B[49m\n",
      "File \u001B[0;32m~/anaconda3/envs/breast_cancer_segmentation/lib/python3.11/site-packages/torch/nn/modules/module.py:1527\u001B[0m, in \u001B[0;36mModule._call_impl\u001B[0;34m(self, *args, **kwargs)\u001B[0m\n\u001B[1;32m   1522\u001B[0m \u001B[38;5;66;03m# If we don't have any hooks, we want to skip the rest of the logic in\u001B[39;00m\n\u001B[1;32m   1523\u001B[0m \u001B[38;5;66;03m# this function, and just call forward.\u001B[39;00m\n\u001B[1;32m   1524\u001B[0m \u001B[38;5;28;01mif\u001B[39;00m \u001B[38;5;129;01mnot\u001B[39;00m (\u001B[38;5;28mself\u001B[39m\u001B[38;5;241m.\u001B[39m_backward_hooks \u001B[38;5;129;01mor\u001B[39;00m \u001B[38;5;28mself\u001B[39m\u001B[38;5;241m.\u001B[39m_backward_pre_hooks \u001B[38;5;129;01mor\u001B[39;00m \u001B[38;5;28mself\u001B[39m\u001B[38;5;241m.\u001B[39m_forward_hooks \u001B[38;5;129;01mor\u001B[39;00m \u001B[38;5;28mself\u001B[39m\u001B[38;5;241m.\u001B[39m_forward_pre_hooks\n\u001B[1;32m   1525\u001B[0m         \u001B[38;5;129;01mor\u001B[39;00m _global_backward_pre_hooks \u001B[38;5;129;01mor\u001B[39;00m _global_backward_hooks\n\u001B[1;32m   1526\u001B[0m         \u001B[38;5;129;01mor\u001B[39;00m _global_forward_hooks \u001B[38;5;129;01mor\u001B[39;00m _global_forward_pre_hooks):\n\u001B[0;32m-> 1527\u001B[0m     \u001B[38;5;28;01mreturn\u001B[39;00m \u001B[43mforward_call\u001B[49m\u001B[43m(\u001B[49m\u001B[38;5;241;43m*\u001B[39;49m\u001B[43margs\u001B[49m\u001B[43m,\u001B[49m\u001B[43m \u001B[49m\u001B[38;5;241;43m*\u001B[39;49m\u001B[38;5;241;43m*\u001B[39;49m\u001B[43mkwargs\u001B[49m\u001B[43m)\u001B[49m\n\u001B[1;32m   1529\u001B[0m \u001B[38;5;28;01mtry\u001B[39;00m:\n\u001B[1;32m   1530\u001B[0m     result \u001B[38;5;241m=\u001B[39m \u001B[38;5;28;01mNone\u001B[39;00m\n",
      "\u001B[0;31mRuntimeError\u001B[0m: The following operation failed in the TorchScript interpreter.\nTraceback of TorchScript, serialized code (most recent call last):\n  File \"code/__torch__/breast_cancer_segmentation/models/UNETModel.py\", line 23, in forward\n    input: Tensor) -> Tensor:\n    net = self.net\n    return (net).forward(input, )\n            ~~~~~~~~~~~~ <--- HERE\n  File \"code/__torch__/monai/networks/nets/unet.py\", line 21, in forward\n    x: Tensor) -> Tensor:\n    model = self.model\n    return (model).forward(x, )\n            ~~~~~~~~~~~~~~ <--- HERE\n  File \"code/__torch__/torch/nn/modules/container/___torch_mangle_64.py\", line 15, in forward\n    _2 = getattr(self, \"2\")\n    input0 = (_0).forward(input, )\n    input1 = (_1).forward(input0, )\n              ~~~~~~~~~~~ <--- HERE\n    return (_2).forward(input1, )\n  def __len__(self: __torch__.torch.nn.modules.container.___torch_mangle_64.Sequential) -> int:\n  File \"code/__torch__/monai/networks/layers/simplelayers/___torch_mangle_54.py\", line 13, in forward\n    _0 = uninitialized(Tensor)\n    submodule = self.submodule\n    y = (submodule).forward(x, )\n         ~~~~~~~~~~~~~~~~~~ <--- HERE\n    mode = self.mode\n    if torch.eq(mode, \"cat\"):\n  File \"code/__torch__/torch/nn/modules/container/___torch_mangle_53.py\", line 15, in forward\n    _2 = getattr(self, \"2\")\n    input0 = (_0).forward(input, )\n    input1 = (_1).forward(input0, )\n              ~~~~~~~~~~~ <--- HERE\n    return (_2).forward(input1, )\n  def __len__(self: __torch__.torch.nn.modules.container.___torch_mangle_53.Sequential) -> int:\n  File \"code/__torch__/monai/networks/layers/simplelayers/___torch_mangle_47.py\", line 13, in forward\n    _0 = uninitialized(Tensor)\n    submodule = self.submodule\n    y = (submodule).forward(x, )\n         ~~~~~~~~~~~~~~~~~~ <--- HERE\n    mode = self.mode\n    if torch.eq(mode, \"cat\"):\n  File \"code/__torch__/torch/nn/modules/container/___torch_mangle_46.py\", line 15, in forward\n    _2 = getattr(self, \"2\")\n    input0 = (_0).forward(input, )\n    input1 = (_1).forward(input0, )\n              ~~~~~~~~~~~ <--- HERE\n    return (_2).forward(input1, )\n  def __len__(self: __torch__.torch.nn.modules.container.___torch_mangle_46.Sequential) -> int:\n  File \"code/__torch__/monai/networks/layers/simplelayers/___torch_mangle_40.py\", line 13, in forward\n    _0 = uninitialized(Tensor)\n    submodule = self.submodule\n    y = (submodule).forward(x, )\n         ~~~~~~~~~~~~~~~~~~ <--- HERE\n    mode = self.mode\n    if torch.eq(mode, \"cat\"):\n  File \"code/__torch__/torch/nn/modules/container/___torch_mangle_39.py\", line 15, in forward\n    _2 = getattr(self, \"2\")\n    input0 = (_0).forward(input, )\n    input1 = (_1).forward(input0, )\n              ~~~~~~~~~~~ <--- HERE\n    return (_2).forward(input1, )\n  def __len__(self: __torch__.torch.nn.modules.container.___torch_mangle_39.Sequential) -> int:\n  File \"code/__torch__/monai/networks/layers/simplelayers.py\", line 18, in forward\n      _2 = [x, y]\n      dim = self.dim\n      _1 = torch.cat(_2, dim)\n           ~~~~~~~~~ <--- HERE\n    else:\n      mode0 = self.mode\n\nTraceback of TorchScript, original code (most recent call last):\n  File \"/breast_cancer_segmentation/models/UNETModel.py\", line 20, in forward\n    def forward(self, input):\n        output = self.net(input)\n                 ~~~~~~~~ <--- HERE\n        return output\n  File \"/usr/local/lib/python3.11/site-packages/monai/networks/nets/unet.py\", line 300, in forward\n    def forward(self, x: torch.Tensor) -> torch.Tensor:\n        x = self.model(x)\n            ~~~~~~~~~~ <--- HERE\n        return x\n  File \"/usr/local/lib/python3.11/site-packages/torch/nn/modules/container.py\", line 215, in forward\n    def forward(self, input):\n        for module in self:\n            input = module(input)\n                    ~~~~~~ <--- HERE\n        return input\n  File \"/usr/local/lib/python3.11/site-packages/monai/networks/layers/simplelayers.py\", line 129, in forward\n    def forward(self, x: torch.Tensor) -> torch.Tensor:\n        y = self.submodule(x)\n            ~~~~~~~~~~~~~~ <--- HERE\n    \n        if self.mode == \"cat\":\n  File \"/usr/local/lib/python3.11/site-packages/torch/nn/modules/container.py\", line 215, in forward\n    def forward(self, input):\n        for module in self:\n            input = module(input)\n                    ~~~~~~ <--- HERE\n        return input\n  File \"/usr/local/lib/python3.11/site-packages/monai/networks/layers/simplelayers.py\", line 129, in forward\n    def forward(self, x: torch.Tensor) -> torch.Tensor:\n        y = self.submodule(x)\n            ~~~~~~~~~~~~~~ <--- HERE\n    \n        if self.mode == \"cat\":\n  File \"/usr/local/lib/python3.11/site-packages/torch/nn/modules/container.py\", line 215, in forward\n    def forward(self, input):\n        for module in self:\n            input = module(input)\n                    ~~~~~~ <--- HERE\n        return input\n  File \"/usr/local/lib/python3.11/site-packages/monai/networks/layers/simplelayers.py\", line 129, in forward\n    def forward(self, x: torch.Tensor) -> torch.Tensor:\n        y = self.submodule(x)\n            ~~~~~~~~~~~~~~ <--- HERE\n    \n        if self.mode == \"cat\":\n  File \"/usr/local/lib/python3.11/site-packages/torch/nn/modules/container.py\", line 215, in forward\n    def forward(self, input):\n        for module in self:\n            input = module(input)\n                    ~~~~~~ <--- HERE\n        return input\n  File \"/usr/local/lib/python3.11/site-packages/monai/networks/layers/simplelayers.py\", line 132, in forward\n    \n        if self.mode == \"cat\":\n            return torch.cat([x, y], dim=self.dim)\n                   ~~~~~~~~~ <--- HERE\n        if self.mode == \"add\":\n            return torch.add(x, y)\nRuntimeError: Sizes of tensors must match except in dimension 1. Expected size 128 but got size 256 for tensor number 1 in the list.\n"
     ]
    }
   ],
   "source": [
    "unet_model(img_transf(img).squeeze(0))"
   ],
   "metadata": {
    "collapsed": false,
    "ExecuteTime": {
     "end_time": "2024-01-16T09:29:51.760058879Z",
     "start_time": "2024-01-16T09:29:51.679556248Z"
    }
   },
   "id": "3f638c0cd2b1d9b0",
   "execution_count": 57
  },
  {
   "cell_type": "code",
   "outputs": [],
   "source": [
    "\n"
   ],
   "metadata": {
    "collapsed": false
   },
   "id": "ba5ccf7ddec97a8d"
  }
 ],
 "metadata": {
  "kernelspec": {
   "display_name": "Python 3",
   "language": "python",
   "name": "python3"
  },
  "language_info": {
   "codemirror_mode": {
    "name": "ipython",
    "version": 2
   },
   "file_extension": ".py",
   "mimetype": "text/x-python",
   "name": "python",
   "nbconvert_exporter": "python",
   "pygments_lexer": "ipython2",
   "version": "2.7.6"
  }
 },
 "nbformat": 4,
 "nbformat_minor": 5
}
